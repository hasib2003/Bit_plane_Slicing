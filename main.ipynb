{
 "cells": [
  {
   "cell_type": "code",
   "execution_count": 1,
   "metadata": {},
   "outputs": [
    {
     "data": {
      "text/plain": [
       "'\\nThis notebook contains the code for bit plane slicing of the images and their reproduction using subset of the planes\\n'"
      ]
     },
     "execution_count": 1,
     "metadata": {},
     "output_type": "execute_result"
    }
   ],
   "source": [
    "\"\"\"\n",
    "This notebook contains the code for bit plane slicing of the images and their reproduction using subset of the planes\n",
    "\"\"\""
   ]
  },
  {
   "cell_type": "code",
   "execution_count": 2,
   "metadata": {},
   "outputs": [],
   "source": [
    "import cv2 as cv;\n",
    "import numpy as np;"
   ]
  },
  {
   "cell_type": "code",
   "execution_count": 6,
   "metadata": {},
   "outputs": [],
   "source": [
    "# reading the image\n",
    "\n",
    "Wasam = cv.imread(\"./Wasam.enc\");\n",
    "# AbdulRehman = cv.imread(\"./AbdulRehman.jpg\",cv.IMREAD_GRAYSCALE)\n",
    "# AbdulRehman = cv.imread(\"./AbdulRehman.jpg\")\n",
    "AbdulRehman = cv.imread(\"./AbdulRehman.jpg\")\n",
    "\n"
   ]
  },
  {
   "cell_type": "code",
   "execution_count": 7,
   "metadata": {},
   "outputs": [],
   "source": [
    "def show(prompt,img):\n",
    "    cv.namedWindow(prompt, cv.WINDOW_NORMAL)\n",
    "    cv.imshow(prompt, img)\n",
    "    cv.waitKey(0) \n",
    "    cv.destroyAllWindows()\n"
   ]
  },
  {
   "cell_type": "code",
   "execution_count": 8,
   "metadata": {},
   "outputs": [],
   "source": [
    "show(\"Wasam \",Wasam)\n",
    "show(\"AbdulRehman \",AbdulRehman)\n"
   ]
  },
  {
   "cell_type": "code",
   "execution_count": 9,
   "metadata": {},
   "outputs": [],
   "source": [
    "\"\"\" regenrating the image using only one plane at time, \n",
    "    images will be shown as black and white because one plane means \n",
    "    we have only information in powers of 2 i.e, 1,2,4,8,...\n",
    "    so to make the information more visible we scale up the information\n",
    "    to 255 making it look like an black and white image\n",
    "\"\"\"\n",
    "\n",
    "def simulateBitPlanes(Img):\n",
    "    for i in range(8):\n",
    "        bitplane = Img & (1<<i);\n",
    "        bitplane = np.where(bitplane==2**i,255,0).astype(np.uint8)\n",
    "        show(f\"regenrated from bitplane level {i} \",bitplane)\n"
   ]
  },
  {
   "cell_type": "code",
   "execution_count": 10,
   "metadata": {},
   "outputs": [],
   "source": [
    "simulateBitPlanes(Wasam)\n",
    "simulateBitPlanes(AbdulRehman)"
   ]
  },
  {
   "cell_type": "code",
   "execution_count": 11,
   "metadata": {},
   "outputs": [],
   "source": [
    "def mergeImages(img1,img2):\n",
    "    \"\"\"\n",
    "    This function takes in two images and store second image into the first image,\n",
    "    and return the firstImage(having second image embedded in it)\n",
    "    \"\"\"\n",
    "\n",
    "    arr1 = np.array(img1)\n",
    "    arr2 = np.array(img2)\n",
    "\n",
    "    arr1 = arr1 & (0b11110000);\n",
    "\n",
    "    arr1 = arr1.astype(np.uint8);\n",
    "\n",
    "    arr2 = arr2 & (0b11110000)\n",
    "\n",
    "    arr2 = arr2.astype(np.uint8);\n",
    "\n",
    "    show(f\"regenrated from 4 MS bitplane levels of first image \",arr1)\n",
    "    show(f\"regenrated from 4 MS bitplane levels of second image \",arr2)\n",
    "    arr2 = (arr2 >> 4);\n",
    "    # show(f\"regenrated from 3 MS bitplane levels of second image \",img2)\n",
    "\n",
    "    arr1 = arr1 | arr2;\n",
    "\n",
    "    show(f\"merged Images \",arr1)\n",
    "    return arr1\n",
    "\n",
    "\n"
   ]
  },
  {
   "cell_type": "code",
   "execution_count": 12,
   "metadata": {},
   "outputs": [],
   "source": [
    "# reading the image\n",
    "\n",
    "Wasam = cv.imread(\"./Wasam.enc\")\n",
    "AbdulRehman = cv.imread(\"./AbdulRehman.jpg\")\n",
    "\n",
    "\n",
    "mergedImage = mergeImages(Wasam,AbdulRehman)"
   ]
  },
  {
   "cell_type": "code",
   "execution_count": 21,
   "metadata": {},
   "outputs": [
    {
     "name": "stdout",
     "output_type": "stream",
     "text": [
      "information in lower 4 bits  [[6 4 4 ... 6 6 6]\n",
      " [6 6 5 ... 6 6 7]\n",
      " [6 6 6 ... 7 7 8]\n",
      " ...\n",
      " [8 8 8 ... 4 4 4]\n",
      " [7 7 7 ... 4 4 4]\n",
      " [6 6 6 ... 4 4 4]]\n",
      "information moved to upper 4 bits  [[ 96  64  64 ...  96  96  96]\n",
      " [ 96  96  80 ...  96  96 112]\n",
      " [ 96  96  96 ... 112 112 128]\n",
      " ...\n",
      " [128 128 128 ...  64  64  64]\n",
      " [112 112 112 ...  64  64  64]\n",
      " [ 96  96  96 ...  64  64  64]]\n"
     ]
    }
   ],
   "source": [
    "## extracting the merged image from the last 4 bits\n",
    "mergedImage = mergedImage & (0b00001111)\n",
    "print(\"information in lower 4 bits \",mergedImage)\n",
    "mergedImage = mergedImage << 4;\n",
    "print(\"information moved to upper 4 bits \",mergedImage)\n",
    "\n",
    "show(\"regenerated second image \",mergedImage)"
   ]
  }
 ],
 "metadata": {
  "kernelspec": {
   "display_name": "Python 3",
   "language": "python",
   "name": "python3"
  },
  "language_info": {
   "codemirror_mode": {
    "name": "ipython",
    "version": 3
   },
   "file_extension": ".py",
   "mimetype": "text/x-python",
   "name": "python",
   "nbconvert_exporter": "python",
   "pygments_lexer": "ipython3",
   "version": "3.10.12"
  }
 },
 "nbformat": 4,
 "nbformat_minor": 2
}
